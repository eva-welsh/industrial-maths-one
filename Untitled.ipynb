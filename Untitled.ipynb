{
 "cells": [
  {
   "cell_type": "code",
   "execution_count": 1,
   "id": "cfc82c31",
   "metadata": {},
   "outputs": [],
   "source": [
    "import numpy as np\n",
    "import matplotlib.pyplot as plt\n",
    "import matplotlib.animation\n"
   ]
  },
  {
   "cell_type": "code",
   "execution_count": 2,
   "id": "b600e379",
   "metadata": {},
   "outputs": [],
   "source": [
    "def I(x):\n",
    "    L = x[-1]\n",
    "    len_x = np.size(x)\n",
    "    i_x = np.zeros(len_x)\n",
    "    for i in range(len_x):\n",
    "        if x[i] < (L+1)/2 and x[i] > (L-1)/2:\n",
    "            i_x[i] = 1\n",
    "    return i_x\n",
    "\n",
    "def U_exact(x, t):\n",
    "    L = x[-1]\n",
    "    u_ex = np.ones(np.size(x)) * (1/L)\n",
    "    \n",
    "    for n in range(1, 2000):\n",
    "        c_n = (2 / (n * np.pi)) * (np.sin((n * np.pi * (L + 1)) / (2 * L)) - np.sin((n * np.pi * (L - 1)) / (2 * L)))\n",
    "        \n",
    "        u_ex += c_n * np.cos(n*np.pi*x / L)*np.exp(-1*n** 2 * np.pi**2 * t / L **2)\n",
    "        \n",
    "    return u_ex"
   ]
  },
  {
   "cell_type": "code",
   "execution_count": 3,
   "id": "e3df8ddb",
   "metadata": {},
   "outputs": [
    {
     "name": "stdout",
     "output_type": "stream",
     "text": [
      "dx= 0.025 dt= 0.02 C = 31.999999999999993\n"
     ]
    }
   ],
   "source": [
    "# end length & end time\n",
    "L=10; T=4\n",
    "\n",
    "# diffusion coefficient \n",
    "a = 1\n",
    "\n",
    "# setting up space part\n",
    "Nx_spaces = 40 * L; Nt_gaps = 50 * T; \n",
    "Nx_points = Nx_spaces +  1 ; Nt_points = Nt_gaps + 1\n",
    "\n",
    "x = np.linspace(0, L, Nx_points)   # mesh points in space\n",
    "dx = x[1] - x[0]\n",
    "\n",
    "t = np.linspace(0, T, Nt_points) # mesh points in time\n",
    "dt = t[1] - t[0]\n",
    "\n",
    "C = a * dt/dx**2\n",
    "print(\"dx=\",dx,\"dt=\", dt,\"C =\",C)\n",
    "\n",
    "# set up matrices\n",
    "u   = np.zeros(Nx_points)\n",
    "u_old = np.zeros(Nx_points)\n",
    "\n",
    "U = np.zeros((Nx_points,Nt_points))\n",
    "U_ex = np.zeros((Nx_points, Nt_points))\n",
    "\n",
    "# Data structures for the linear system\n",
    "A = np.zeros((Nx_points, Nx_points))\n",
    "b = np.zeros(Nx_points)\n",
    "\n",
    "# set up the matrix A\n",
    "for i in range(1, Nx_points-1): # rows from 1 to Nx-2\n",
    "    A[i,i-1] = -C\n",
    "    A[i,i+1] = -C\n",
    "    A[i,i] = 1 + 2*C\n",
    "A[0,0] = 1+2*C  ; A[0,1]= -2*C \n",
    "A[Nx_points-1,Nx_points-1] = 1+2*C \n",
    "A[Nx_points-1,Nx_points-2] = -2*C\n",
    "\n",
    "# find the inverse of A and use for all points\n",
    "Ainv = np.linalg.inv(A)\n",
    "\n",
    "# Set initial condition u(x,0) = I(x)\n",
    "u_old = I(x) # no dirichlet boundary conditions in this example\n",
    "\n",
    "# initialise matrices U and U_ex2 for first time step\n",
    "U[:,0] = u_old[:]\n",
    "U_ex[:,0] = U_exact(x,0)\n",
    "\n",
    "#perform time=stepping\n",
    "for n in range(1, Nt_points): # timestep for 1 to t = T-1 so last step finishes on t=T\n",
    "    # Compute b and solve linear system\n",
    "    b[:] = u_old[:]\n",
    "    u[:] = np.dot(Ainv,b)\n",
    "    # Update u_1 before next step\n",
    "    u_old = u\n",
    "    U[:,n] = u\n",
    "    U_ex[:,n]=U_exact(x,t[n])"
   ]
  },
  {
   "cell_type": "code",
   "execution_count": 4,
   "id": "336735e8",
   "metadata": {},
   "outputs": [],
   "source": [
    "# # set up animation plots\n",
    "# fig, ax = plt.subplots()\n",
    "# ax.axis([-1,6,0,1])\n",
    "# def animate(i):\n",
    "#     l.set_data(x, U[:,i])\n",
    "#     m.set_data(x,U_ex[:,i])\n",
    "    \n",
    "# ax.axis([-1,6,0,1])\n",
    "# l, = ax.plot([],[],':r')\n",
    "# m, = ax.plot([],[],'-.b')\n",
    "\n",
    "# ani2 = matplotlib.animation.FuncAnimation(fig, animate, frames=Nt_points)\n",
    "\n",
    "# from IPython.display import HTML\n",
    "# HTML(ani2.to_jshtml())"
   ]
  },
  {
   "cell_type": "code",
   "execution_count": 5,
   "id": "ef6556eb",
   "metadata": {},
   "outputs": [
    {
     "data": {
      "text/plain": [
       "Text(0.5, 0.98, 'Diffusion of Gas')"
      ]
     },
     "execution_count": 5,
     "metadata": {},
     "output_type": "execute_result"
    },
    {
     "data": {
      "image/png": "[encoded data removed]",
      "text/plain": [
       "<Figure size 1080x360 with 3 Axes>"
      ]
     },
     "metadata": {
      "needs_background": "light"
     },
     "output_type": "display_data"
    }
   ],
   "source": [
    "times = np.linspace(0, Nt_gaps, 3, dtype = int)\n",
    "\n",
    "fig, ax = plt.subplots(1, 3, sharex=True, sharey=True, figsize = (15, 5))\n",
    "\n",
    "\n",
    "ax[0].axis([-1, 11, 0, 1.2])\n",
    "ax[1].axis([-1, 11, 0, 1.2])\n",
    "ax[2].axis([-1, 11, 0, 1.2])\n",
    "\n",
    "ax[0].plot(x, U[:, times[0]], ':', label = 'numerical')\n",
    "ax[0].plot(x, U_ex[:, times[0]], '-.', label = 'exact')\n",
    "ax[0].set_title(f'time = {t[times[0]]}')\n",
    "\n",
    "ax[1].plot(x, U[:, times[1]], ':')\n",
    "ax[1].plot(x, U_ex[:, times[1]], '-.')\n",
    "ax[1].set_title(f'time = {t[times[1]]}')\n",
    "\n",
    "ax[2].plot(x, U[:, times[2]], ':')\n",
    "ax[2].plot(x, U_ex[:, times[2]], '-.')\n",
    "ax[2].set_title(f'time = {t[times[2]]}')\n",
    "\n",
    "fig.legend()\n",
    "fig.suptitle('Diffusion of Gas')\n",
    "# plt.tight_layout()"
   ]
  },
  {
   "cell_type": "code",
   "execution_count": null,
   "id": "12b806b6",
   "metadata": {},
   "outputs": [
    {
     "data": {
      "image/png": "[encoded data removed]",
      "text/plain": [
       "<Figure size 432x288 with 1 Axes>"
      ]
     },
     "metadata": {
      "needs_background": "light"
     },
     "output_type": "display_data"
    }
   ],
   "source": [
    "# graph error\n",
    "def find_max_error(u, exact):\n",
    "    error = abs(u - exact)\n",
    "\n",
    "    return np.amax(error, axis = 0)\n",
    "\n",
    "plt.scatter(t, find_max_error(U, U_ex), marker = \".\")\n",
    "\n",
    "plt.xlabel('Time')\n",
    "plt.ylabel('Maximum Error')\n",
    "plt.title('Maximum error at each timestep')\n",
    "plt.show()\n"
   ]
  },
  {
   "cell_type": "code",
   "execution_count": null,
   "id": "92850370",
   "metadata": {},
   "outputs": [
    {
     "ename": "NameError",
     "evalue": "name 'scipy' is not defined",
     "output_type": "error",
     "traceback": [
      "\u001b[1;31m---------------------------------------------------------------------------\u001b[0m",
      "\u001b[1;31mNameError\u001b[0m                                 Traceback (most recent call last)",
      "\u001b[1;32m<ipython-input-15-1fec39646022>\u001b[0m in \u001b[0;36m<module>\u001b[1;34m\u001b[0m\n\u001b[0;32m      2\u001b[0m \u001b[1;33m\u001b[0m\u001b[0m\n\u001b[0;32m      3\u001b[0m \u001b[1;32mfor\u001b[0m \u001b[0mi\u001b[0m \u001b[1;32min\u001b[0m \u001b[0mrange\u001b[0m\u001b[1;33m(\u001b[0m\u001b[1;36m0\u001b[0m\u001b[1;33m,\u001b[0m \u001b[0mlen\u001b[0m\u001b[1;33m(\u001b[0m\u001b[0mt\u001b[0m\u001b[1;33m)\u001b[0m\u001b[1;33m)\u001b[0m\u001b[1;33m:\u001b[0m\u001b[1;33m\u001b[0m\u001b[1;33m\u001b[0m\u001b[0m\n\u001b[1;32m----> 4\u001b[1;33m     \u001b[0marea\u001b[0m\u001b[1;33m.\u001b[0m\u001b[0mappend\u001b[0m\u001b[1;33m(\u001b[0m\u001b[0mscipy\u001b[0m\u001b[1;33m.\u001b[0m\u001b[0mintegrate\u001b[0m\u001b[1;33m.\u001b[0m\u001b[0msimps\u001b[0m\u001b[1;33m(\u001b[0m\u001b[0mU\u001b[0m\u001b[1;33m[\u001b[0m\u001b[1;33m:\u001b[0m\u001b[1;33m,\u001b[0m \u001b[0mi\u001b[0m\u001b[1;33m]\u001b[0m\u001b[1;33m,\u001b[0m \u001b[0mx\u001b[0m\u001b[1;33m)\u001b[0m\u001b[1;33m)\u001b[0m\u001b[1;33m\u001b[0m\u001b[1;33m\u001b[0m\u001b[0m\n\u001b[0m\u001b[0;32m      5\u001b[0m \u001b[1;33m\u001b[0m\u001b[0m\n\u001b[0;32m      6\u001b[0m \u001b[0mplt\u001b[0m\u001b[1;33m.\u001b[0m\u001b[0mscatter\u001b[0m\u001b[1;33m(\u001b[0m\u001b[0mt\u001b[0m\u001b[1;33m,\u001b[0m \u001b[0marea\u001b[0m\u001b[1;33m,\u001b[0m \u001b[0mmarker\u001b[0m \u001b[1;33m=\u001b[0m \u001b[1;34m\".\"\u001b[0m\u001b[1;33m)\u001b[0m\u001b[1;33m\u001b[0m\u001b[1;33m\u001b[0m\u001b[0m\n",
      "\u001b[1;31mNameError\u001b[0m: name 'scipy' is not defined"
     ]
    }
   ],
   "source": [
    "area = []\n",
    "\n",
    "for i in range(0, len(t)):\n",
    "    area.append(scipy.integrate.simps(U[:, i], x))\n",
    "\n",
    "plt.scatter(t, area, marker = \".\")\n",
    "\n",
    "plt.xlabel('Time')\n",
    "plt.ylabel('Area under the curve')\n",
    "plt.title('The Area Under the curve at each timestep')\n",
    "plt.show()"
   ]
  },
  {
   "cell_type": "code",
   "execution_count": null,
   "id": "4329af63",
   "metadata": {},
   "outputs": [],
   "source": []
  }
 ],
 "metadata": {
  "kernelspec": {
   "display_name": "Python 3.8.3 ('base')",
   "language": "python",
   "name": "python3"
  },
  "language_info": {
   "codemirror_mode": {
    "name": "ipython",
    "version": 3
   },
   "file_extension": ".py",
   "mimetype": "text/x-python",
   "name": "python",
   "nbconvert_exporter": "python",
   "pygments_lexer": "ipython3",
   "version": "3.8.3"
  },
  "vscode": {
   "interpreter": {
    "hash": "a077222d77dfe082b8f1dd562ad70e458ac2ab76993a0b248ab0476e32e9e8dd"
   }
  }
 },
 "nbformat": 4,
 "nbformat_minor": 5
}
